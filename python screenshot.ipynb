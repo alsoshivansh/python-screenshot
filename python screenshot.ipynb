{
 "cells": [
  {
   "cell_type": "code",
   "execution_count": 1,
   "id": "9bb7c18e",
   "metadata": {},
   "outputs": [],
   "source": [
    "from PIL import ImageGrab\n",
    "\n",
    "# Take a screenshot of the entire screen\n",
    "screenshot = ImageGrab.grab()\n",
    "\n",
    "# Save the screenshot to a file\n",
    "screenshot.save(\"screenshot.png\")\n",
    "\n",
    "# Optional: Display the screenshot\n",
    "screenshot.show()"
   ]
  },
  {
   "cell_type": "code",
   "execution_count": null,
   "id": "b3f289e9",
   "metadata": {},
   "outputs": [],
   "source": []
  }
 ],
 "metadata": {
  "kernelspec": {
   "display_name": "Python 3 (ipykernel)",
   "language": "python",
   "name": "python3"
  },
  "language_info": {
   "codemirror_mode": {
    "name": "ipython",
    "version": 3
   },
   "file_extension": ".py",
   "mimetype": "text/x-python",
   "name": "python",
   "nbconvert_exporter": "python",
   "pygments_lexer": "ipython3",
   "version": "3.11.4"
  }
 },
 "nbformat": 4,
 "nbformat_minor": 5
}
